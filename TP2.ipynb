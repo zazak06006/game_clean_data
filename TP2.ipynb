{
 "cells": [
  {
   "cell_type": "code",
   "execution_count": 107,
   "id": "130a169e-206e-40c6-a9ae-88b9eba8e1c7",
   "metadata": {},
   "outputs": [],
   "source": [
    "import pandas as pd\n",
    "import matplotlib.pyplot as plt\n",
    "import seaborn as sns\n",
    "import numpy as np"
   ]
  },
  {
   "cell_type": "markdown",
   "id": "f637ce37-61eb-4c9a-918e-fac46029de13",
   "metadata": {},
   "source": [
    "Mission 1 : Explorer les Données (Débutant)"
   ]
  },
  {
   "cell_type": "code",
   "execution_count": 109,
   "id": "29b97d89-d918-4ad9-8b38-5b869878447c",
   "metadata": {},
   "outputs": [
    {
     "data": {
      "text/html": [
       "<div>\n",
       "<style scoped>\n",
       "    .dataframe tbody tr th:only-of-type {\n",
       "        vertical-align: middle;\n",
       "    }\n",
       "\n",
       "    .dataframe tbody tr th {\n",
       "        vertical-align: top;\n",
       "    }\n",
       "\n",
       "    .dataframe thead th {\n",
       "        text-align: right;\n",
       "    }\n",
       "</style>\n",
       "<table border=\"1\" class=\"dataframe\">\n",
       "  <thead>\n",
       "    <tr style=\"text-align: right;\">\n",
       "      <th></th>\n",
       "      <th>Date</th>\n",
       "      <th>ID_Joueur</th>\n",
       "      <th>Temps_Jeu</th>\n",
       "      <th>Victoires</th>\n",
       "      <th>Achats_Objets</th>\n",
       "      <th>Satisfaction</th>\n",
       "      <th>Région</th>\n",
       "      <th>Serveur</th>\n",
       "      <th>Latitude</th>\n",
       "      <th>Longitude</th>\n",
       "    </tr>\n",
       "  </thead>\n",
       "  <tbody>\n",
       "    <tr>\n",
       "      <th>0</th>\n",
       "      <td>2023-01-07</td>\n",
       "      <td>1943</td>\n",
       "      <td>100.913289</td>\n",
       "      <td>1</td>\n",
       "      <td>0</td>\n",
       "      <td>71.3</td>\n",
       "      <td>OC</td>\n",
       "      <td>Stable</td>\n",
       "      <td>30.432320</td>\n",
       "      <td>96.947262</td>\n",
       "    </tr>\n",
       "    <tr>\n",
       "      <th>1</th>\n",
       "      <td>2023-01-20</td>\n",
       "      <td>1943</td>\n",
       "      <td>103.048186</td>\n",
       "      <td>1</td>\n",
       "      <td>50</td>\n",
       "      <td>75.9</td>\n",
       "      <td>EU</td>\n",
       "      <td>Stable</td>\n",
       "      <td>5.541137</td>\n",
       "      <td>-89.395196</td>\n",
       "    </tr>\n",
       "    <tr>\n",
       "      <th>2</th>\n",
       "      <td>2023-01-29</td>\n",
       "      <td>1943</td>\n",
       "      <td>176.132234</td>\n",
       "      <td>1</td>\n",
       "      <td>50</td>\n",
       "      <td>86.4</td>\n",
       "      <td>AS</td>\n",
       "      <td>Stable</td>\n",
       "      <td>-54.947640</td>\n",
       "      <td>-37.501899</td>\n",
       "    </tr>\n",
       "    <tr>\n",
       "      <th>3</th>\n",
       "      <td>2023-01-15</td>\n",
       "      <td>1943</td>\n",
       "      <td>94.473477</td>\n",
       "      <td>0</td>\n",
       "      <td>0</td>\n",
       "      <td>94.6</td>\n",
       "      <td>AF</td>\n",
       "      <td>Stable</td>\n",
       "      <td>-66.108038</td>\n",
       "      <td>-162.469859</td>\n",
       "    </tr>\n",
       "    <tr>\n",
       "      <th>4</th>\n",
       "      <td>2023-01-11</td>\n",
       "      <td>1943</td>\n",
       "      <td>193.236652</td>\n",
       "      <td>3</td>\n",
       "      <td>50</td>\n",
       "      <td>55.9</td>\n",
       "      <td>AF</td>\n",
       "      <td>Stable</td>\n",
       "      <td>-34.836281</td>\n",
       "      <td>-134.227974</td>\n",
       "    </tr>\n",
       "  </tbody>\n",
       "</table>\n",
       "</div>"
      ],
      "text/plain": [
       "         Date  ID_Joueur   Temps_Jeu  Victoires  Achats_Objets  Satisfaction  \\\n",
       "0  2023-01-07       1943  100.913289          1              0          71.3   \n",
       "1  2023-01-20       1943  103.048186          1             50          75.9   \n",
       "2  2023-01-29       1943  176.132234          1             50          86.4   \n",
       "3  2023-01-15       1943   94.473477          0              0          94.6   \n",
       "4  2023-01-11       1943  193.236652          3             50          55.9   \n",
       "\n",
       "  Région Serveur   Latitude   Longitude  \n",
       "0     OC  Stable  30.432320   96.947262  \n",
       "1     EU  Stable   5.541137  -89.395196  \n",
       "2     AS  Stable -54.947640  -37.501899  \n",
       "3     AF  Stable -66.108038 -162.469859  \n",
       "4     AF  Stable -34.836281 -134.227974  "
      ]
     },
     "execution_count": 109,
     "metadata": {},
     "output_type": "execute_result"
    }
   ],
   "source": [
    "#1. Charger les données et afficher les 5 premières lignes.\n",
    "data = pd.read_csv('game_data_complete.csv')\n",
    "data.head()"
   ]
  },
  {
   "cell_type": "code",
   "execution_count": 110,
   "id": "b012f87c-77bd-4dd8-a49b-c168d5446778",
   "metadata": {},
   "outputs": [
    {
     "data": {
      "text/plain": [
       "Date             0.0000\n",
       "ID_Joueur        0.0000\n",
       "Temps_Jeu        0.0500\n",
       "Victoires        0.0000\n",
       "Achats_Objets    0.0000\n",
       "Satisfaction     0.0500\n",
       "Région           0.2116\n",
       "Serveur          0.0000\n",
       "Latitude         0.0000\n",
       "Longitude        0.0000\n",
       "dtype: float64"
      ]
     },
     "execution_count": 110,
     "metadata": {},
     "output_type": "execute_result"
    }
   ],
   "source": [
    "#2. Identifier les colonnes avec des valeurs manquantes et leur proportion.\n",
    "data.isna().mean()"
   ]
  },
  {
   "cell_type": "code",
   "execution_count": 111,
   "id": "1d9bafe6-f03e-46a2-96e5-71a6386895f4",
   "metadata": {},
   "outputs": [
    {
     "data": {
      "text/plain": [
       "500"
      ]
     },
     "execution_count": 111,
     "metadata": {},
     "output_type": "execute_result"
    }
   ],
   "source": [
    "#3. Compter le nombre unique de joueurs.\n",
    "data['ID_Joueur'].unique().shape[0]"
   ]
  },
  {
   "cell_type": "code",
   "execution_count": 112,
   "id": "a8fae588-6cc4-4ddc-b3d6-bd0f52e19c32",
   "metadata": {},
   "outputs": [
    {
     "data": {
      "text/html": [
       "<div>\n",
       "<style scoped>\n",
       "    .dataframe tbody tr th:only-of-type {\n",
       "        vertical-align: middle;\n",
       "    }\n",
       "\n",
       "    .dataframe tbody tr th {\n",
       "        vertical-align: top;\n",
       "    }\n",
       "\n",
       "    .dataframe thead th {\n",
       "        text-align: right;\n",
       "    }\n",
       "</style>\n",
       "<table border=\"1\" class=\"dataframe\">\n",
       "  <thead>\n",
       "    <tr style=\"text-align: right;\">\n",
       "      <th></th>\n",
       "      <th>ID_Joueur</th>\n",
       "      <th>Temps_Jeu</th>\n",
       "      <th>Victoires</th>\n",
       "      <th>Achats_Objets</th>\n",
       "      <th>Satisfaction</th>\n",
       "      <th>Latitude</th>\n",
       "      <th>Longitude</th>\n",
       "    </tr>\n",
       "  </thead>\n",
       "  <tbody>\n",
       "    <tr>\n",
       "      <th>count</th>\n",
       "      <td>15000.000000</td>\n",
       "      <td>14250.000000</td>\n",
       "      <td>15000.000000</td>\n",
       "      <td>15000.000000</td>\n",
       "      <td>14250.000000</td>\n",
       "      <td>15000.000000</td>\n",
       "      <td>15000.000000</td>\n",
       "    </tr>\n",
       "    <tr>\n",
       "      <th>mean</th>\n",
       "      <td>1494.598000</td>\n",
       "      <td>120.235668</td>\n",
       "      <td>1.139267</td>\n",
       "      <td>54.273333</td>\n",
       "      <td>75.008926</td>\n",
       "      <td>0.142723</td>\n",
       "      <td>-0.623209</td>\n",
       "    </tr>\n",
       "    <tr>\n",
       "      <th>std</th>\n",
       "      <td>291.007357</td>\n",
       "      <td>30.038566</td>\n",
       "      <td>1.059975</td>\n",
       "      <td>112.281992</td>\n",
       "      <td>14.321214</td>\n",
       "      <td>52.012019</td>\n",
       "      <td>103.976793</td>\n",
       "    </tr>\n",
       "    <tr>\n",
       "      <th>min</th>\n",
       "      <td>1001.000000</td>\n",
       "      <td>30.000000</td>\n",
       "      <td>0.000000</td>\n",
       "      <td>0.000000</td>\n",
       "      <td>50.000000</td>\n",
       "      <td>-89.958798</td>\n",
       "      <td>-179.912479</td>\n",
       "    </tr>\n",
       "    <tr>\n",
       "      <th>25%</th>\n",
       "      <td>1234.750000</td>\n",
       "      <td>99.957081</td>\n",
       "      <td>0.000000</td>\n",
       "      <td>0.000000</td>\n",
       "      <td>62.800000</td>\n",
       "      <td>-45.112024</td>\n",
       "      <td>-91.142225</td>\n",
       "    </tr>\n",
       "    <tr>\n",
       "      <th>50%</th>\n",
       "      <td>1501.500000</td>\n",
       "      <td>120.196449</td>\n",
       "      <td>1.000000</td>\n",
       "      <td>0.000000</td>\n",
       "      <td>75.000000</td>\n",
       "      <td>0.531799</td>\n",
       "      <td>-0.668055</td>\n",
       "    </tr>\n",
       "    <tr>\n",
       "      <th>75%</th>\n",
       "      <td>1741.750000</td>\n",
       "      <td>140.641696</td>\n",
       "      <td>2.000000</td>\n",
       "      <td>50.000000</td>\n",
       "      <td>87.500000</td>\n",
       "      <td>44.547058</td>\n",
       "      <td>89.220585</td>\n",
       "    </tr>\n",
       "    <tr>\n",
       "      <th>max</th>\n",
       "      <td>1999.000000</td>\n",
       "      <td>254.372528</td>\n",
       "      <td>4.000000</td>\n",
       "      <td>500.000000</td>\n",
       "      <td>100.000000</td>\n",
       "      <td>89.985052</td>\n",
       "      <td>179.970215</td>\n",
       "    </tr>\n",
       "  </tbody>\n",
       "</table>\n",
       "</div>"
      ],
      "text/plain": [
       "          ID_Joueur     Temps_Jeu     Victoires  Achats_Objets  Satisfaction  \\\n",
       "count  15000.000000  14250.000000  15000.000000   15000.000000  14250.000000   \n",
       "mean    1494.598000    120.235668      1.139267      54.273333     75.008926   \n",
       "std      291.007357     30.038566      1.059975     112.281992     14.321214   \n",
       "min     1001.000000     30.000000      0.000000       0.000000     50.000000   \n",
       "25%     1234.750000     99.957081      0.000000       0.000000     62.800000   \n",
       "50%     1501.500000    120.196449      1.000000       0.000000     75.000000   \n",
       "75%     1741.750000    140.641696      2.000000      50.000000     87.500000   \n",
       "max     1999.000000    254.372528      4.000000     500.000000    100.000000   \n",
       "\n",
       "           Latitude     Longitude  \n",
       "count  15000.000000  15000.000000  \n",
       "mean       0.142723     -0.623209  \n",
       "std       52.012019    103.976793  \n",
       "min      -89.958798   -179.912479  \n",
       "25%      -45.112024    -91.142225  \n",
       "50%        0.531799     -0.668055  \n",
       "75%       44.547058     89.220585  \n",
       "max       89.985052    179.970215  "
      ]
     },
     "execution_count": 112,
     "metadata": {},
     "output_type": "execute_result"
    }
   ],
   "source": [
    "#1. Vérifiez les statistiques globales (moyennes, valeurs minimales et maximales).\n",
    "data.describe()"
   ]
  },
  {
   "cell_type": "code",
   "execution_count": 113,
   "id": "47525800-a434-4036-976a-031e76f128d7",
   "metadata": {},
   "outputs": [],
   "source": [
    "#2. Trouvez les jours où les serveurs sont hors ligne.\n",
    "data['Date'] = pd.to_datetime(data['Date'])\n",
    "dates_hors_lignes = data.loc[data[\"Serveur\"]=='Hors-Ligne',\"Date\"].unique()\n",
    "dates_hors_lignes = pd.to_datetime(pd.Series(dates_hors_lignes))\n",
    "dates_hors_lignes = dates_hors_lignes.astype('datetime64[ns]')"
   ]
  },
  {
   "cell_type": "code",
   "execution_count": 114,
   "id": "b4f04152-5926-433e-8226-a192b89d6ca8",
   "metadata": {},
   "outputs": [
    {
     "data": {
      "text/plain": [
       "Achats_Objets\n",
       "0      8952\n",
       "50     3084\n",
       "100    1501\n",
       "200     739\n",
       "500     724\n",
       "Name: count, dtype: int64"
      ]
     },
     "execution_count": 114,
     "metadata": {},
     "output_type": "execute_result"
    }
   ],
   "source": [
    "#3. Filtrez les données pour ces jours et analysez leur impact sur les achats.\n",
    "data.loc[data['Date'].isin(dates_hors_lignes),'Achats_Objets'].value_counts()"
   ]
  },
  {
   "cell_type": "markdown",
   "id": "cf1001f1-b1c6-4075-85e6-626e32c13520",
   "metadata": {},
   "source": [
    "Mission 2 : Analyse des Joueurs Actifs (Intermédiaire)"
   ]
  },
  {
   "cell_type": "code",
   "execution_count": 116,
   "id": "d61ee024-d787-4887-a08b-bd72f724c6b5",
   "metadata": {},
   "outputs": [
    {
     "data": {
      "text/html": [
       "<div>\n",
       "<style scoped>\n",
       "    .dataframe tbody tr th:only-of-type {\n",
       "        vertical-align: middle;\n",
       "    }\n",
       "\n",
       "    .dataframe tbody tr th {\n",
       "        vertical-align: top;\n",
       "    }\n",
       "\n",
       "    .dataframe thead th {\n",
       "        text-align: right;\n",
       "    }\n",
       "</style>\n",
       "<table border=\"1\" class=\"dataframe\">\n",
       "  <thead>\n",
       "    <tr style=\"text-align: right;\">\n",
       "      <th></th>\n",
       "      <th>ID_Joueur</th>\n",
       "      <th>Temps_Jeu</th>\n",
       "    </tr>\n",
       "  </thead>\n",
       "  <tbody>\n",
       "    <tr>\n",
       "      <th>0</th>\n",
       "      <td>1561</td>\n",
       "      <td>3995.501446</td>\n",
       "    </tr>\n",
       "    <tr>\n",
       "      <th>1</th>\n",
       "      <td>1517</td>\n",
       "      <td>3976.710036</td>\n",
       "    </tr>\n",
       "    <tr>\n",
       "      <th>2</th>\n",
       "      <td>1695</td>\n",
       "      <td>3974.456850</td>\n",
       "    </tr>\n",
       "    <tr>\n",
       "      <th>3</th>\n",
       "      <td>1483</td>\n",
       "      <td>3943.158482</td>\n",
       "    </tr>\n",
       "    <tr>\n",
       "      <th>4</th>\n",
       "      <td>1578</td>\n",
       "      <td>3907.477029</td>\n",
       "    </tr>\n",
       "    <tr>\n",
       "      <th>...</th>\n",
       "      <td>...</td>\n",
       "      <td>...</td>\n",
       "    </tr>\n",
       "    <tr>\n",
       "      <th>495</th>\n",
       "      <td>1168</td>\n",
       "      <td>2848.666502</td>\n",
       "    </tr>\n",
       "    <tr>\n",
       "      <th>496</th>\n",
       "      <td>1892</td>\n",
       "      <td>2828.083004</td>\n",
       "    </tr>\n",
       "    <tr>\n",
       "      <th>497</th>\n",
       "      <td>1526</td>\n",
       "      <td>2806.233993</td>\n",
       "    </tr>\n",
       "    <tr>\n",
       "      <th>498</th>\n",
       "      <td>1783</td>\n",
       "      <td>2777.763587</td>\n",
       "    </tr>\n",
       "    <tr>\n",
       "      <th>499</th>\n",
       "      <td>1130</td>\n",
       "      <td>2771.349527</td>\n",
       "    </tr>\n",
       "  </tbody>\n",
       "</table>\n",
       "<p>500 rows × 2 columns</p>\n",
       "</div>"
      ],
      "text/plain": [
       "     ID_Joueur    Temps_Jeu\n",
       "0         1561  3995.501446\n",
       "1         1517  3976.710036\n",
       "2         1695  3974.456850\n",
       "3         1483  3943.158482\n",
       "4         1578  3907.477029\n",
       "..         ...          ...\n",
       "495       1168  2848.666502\n",
       "496       1892  2828.083004\n",
       "497       1526  2806.233993\n",
       "498       1783  2777.763587\n",
       "499       1130  2771.349527\n",
       "\n",
       "[500 rows x 2 columns]"
      ]
     },
     "execution_count": 116,
     "metadata": {},
     "output_type": "execute_result"
    }
   ],
   "source": [
    "#1. Calculer le temps total de jeu par joueur.\n",
    "temps_par_joueur = data.groupby(by='ID_Joueur')[\"Temps_Jeu\"].sum().sort_values(ascending=False).reset_index()\n",
    "temps_par_joueur"
   ]
  },
  {
   "cell_type": "code",
   "execution_count": 117,
   "id": "889ef89d-6777-46ac-86e9-9fb2685c00a2",
   "metadata": {},
   "outputs": [
    {
     "data": {
      "text/html": [
       "<div>\n",
       "<style scoped>\n",
       "    .dataframe tbody tr th:only-of-type {\n",
       "        vertical-align: middle;\n",
       "    }\n",
       "\n",
       "    .dataframe tbody tr th {\n",
       "        vertical-align: top;\n",
       "    }\n",
       "\n",
       "    .dataframe thead th {\n",
       "        text-align: right;\n",
       "    }\n",
       "</style>\n",
       "<table border=\"1\" class=\"dataframe\">\n",
       "  <thead>\n",
       "    <tr style=\"text-align: right;\">\n",
       "      <th></th>\n",
       "      <th>ID_Joueur</th>\n",
       "      <th>Temps_Jeu</th>\n",
       "    </tr>\n",
       "  </thead>\n",
       "  <tbody>\n",
       "    <tr>\n",
       "      <th>0</th>\n",
       "      <td>1561</td>\n",
       "      <td>3995.501446</td>\n",
       "    </tr>\n",
       "    <tr>\n",
       "      <th>1</th>\n",
       "      <td>1517</td>\n",
       "      <td>3976.710036</td>\n",
       "    </tr>\n",
       "    <tr>\n",
       "      <th>2</th>\n",
       "      <td>1695</td>\n",
       "      <td>3974.456850</td>\n",
       "    </tr>\n",
       "    <tr>\n",
       "      <th>3</th>\n",
       "      <td>1483</td>\n",
       "      <td>3943.158482</td>\n",
       "    </tr>\n",
       "    <tr>\n",
       "      <th>4</th>\n",
       "      <td>1578</td>\n",
       "      <td>3907.477029</td>\n",
       "    </tr>\n",
       "  </tbody>\n",
       "</table>\n",
       "</div>"
      ],
      "text/plain": [
       "   ID_Joueur    Temps_Jeu\n",
       "0       1561  3995.501446\n",
       "1       1517  3976.710036\n",
       "2       1695  3974.456850\n",
       "3       1483  3943.158482\n",
       "4       1578  3907.477029"
      ]
     },
     "execution_count": 117,
     "metadata": {},
     "output_type": "execute_result"
    }
   ],
   "source": [
    "#2. Afficher les 5 joueurs les plus actifs.\n",
    "temps_par_joueur.head()"
   ]
  },
  {
   "cell_type": "code",
   "execution_count": 118,
   "id": "dff93c5d-8452-441a-b7e1-618fdb54047c",
   "metadata": {},
   "outputs": [
    {
     "data": {
      "text/html": [
       "<div>\n",
       "<style scoped>\n",
       "    .dataframe tbody tr th:only-of-type {\n",
       "        vertical-align: middle;\n",
       "    }\n",
       "\n",
       "    .dataframe tbody tr th {\n",
       "        vertical-align: top;\n",
       "    }\n",
       "\n",
       "    .dataframe thead th {\n",
       "        text-align: right;\n",
       "    }\n",
       "</style>\n",
       "<table border=\"1\" class=\"dataframe\">\n",
       "  <thead>\n",
       "    <tr style=\"text-align: right;\">\n",
       "      <th></th>\n",
       "      <th>ID_Joueur</th>\n",
       "      <th>Satisfaction</th>\n",
       "    </tr>\n",
       "  </thead>\n",
       "  <tbody>\n",
       "  </tbody>\n",
       "</table>\n",
       "</div>"
      ],
      "text/plain": [
       "Empty DataFrame\n",
       "Columns: [ID_Joueur, Satisfaction]\n",
       "Index: []"
      ]
     },
     "execution_count": 118,
     "metadata": {},
     "output_type": "execute_result"
    }
   ],
   "source": [
    "#3. Identifier les joueurs ayant une satisfaction inférieure à 60.\n",
    "moyenne_satisfaction = data.groupby(by='ID_Joueur')[\"Satisfaction\"].mean()\n",
    "joueurs_insatisfaits = moyenne_satisfaction[moyenne_satisfaction < 60].reset_index()\n",
    "joueurs_insatisfaits"
   ]
  },
  {
   "cell_type": "code",
   "execution_count": 119,
   "id": "ead5da7a-e0a5-4711-b709-bceb2543bedb",
   "metadata": {},
   "outputs": [
    {
     "data": {
      "text/html": [
       "<div>\n",
       "<style scoped>\n",
       "    .dataframe tbody tr th:only-of-type {\n",
       "        vertical-align: middle;\n",
       "    }\n",
       "\n",
       "    .dataframe tbody tr th {\n",
       "        vertical-align: top;\n",
       "    }\n",
       "\n",
       "    .dataframe thead th {\n",
       "        text-align: right;\n",
       "    }\n",
       "</style>\n",
       "<table border=\"1\" class=\"dataframe\">\n",
       "  <thead>\n",
       "    <tr style=\"text-align: right;\">\n",
       "      <th></th>\n",
       "      <th>index</th>\n",
       "      <th>ID_Joueur</th>\n",
       "      <th>Temps_Jeu</th>\n",
       "    </tr>\n",
       "  </thead>\n",
       "  <tbody>\n",
       "    <tr>\n",
       "      <th>1</th>\n",
       "      <td>0</td>\n",
       "      <td>1561</td>\n",
       "      <td>3995.501446</td>\n",
       "    </tr>\n",
       "    <tr>\n",
       "      <th>2</th>\n",
       "      <td>1</td>\n",
       "      <td>1517</td>\n",
       "      <td>3976.710036</td>\n",
       "    </tr>\n",
       "    <tr>\n",
       "      <th>3</th>\n",
       "      <td>2</td>\n",
       "      <td>1695</td>\n",
       "      <td>3974.456850</td>\n",
       "    </tr>\n",
       "    <tr>\n",
       "      <th>4</th>\n",
       "      <td>3</td>\n",
       "      <td>1483</td>\n",
       "      <td>3943.158482</td>\n",
       "    </tr>\n",
       "    <tr>\n",
       "      <th>5</th>\n",
       "      <td>4</td>\n",
       "      <td>1578</td>\n",
       "      <td>3907.477029</td>\n",
       "    </tr>\n",
       "  </tbody>\n",
       "</table>\n",
       "</div>"
      ],
      "text/plain": [
       "   index  ID_Joueur    Temps_Jeu\n",
       "1      0       1561  3995.501446\n",
       "2      1       1517  3976.710036\n",
       "3      2       1695  3974.456850\n",
       "4      3       1483  3943.158482\n",
       "5      4       1578  3907.477029"
      ]
     },
     "execution_count": 119,
     "metadata": {},
     "output_type": "execute_result"
    }
   ],
   "source": [
    "#Créez un top 10 des joueurs les plus actifs \n",
    "\n",
    "top_10 = temps_par_joueur.head(10).reset_index()\n",
    "top_10.index += 1\n",
    "top_10.head()"
   ]
  },
  {
   "cell_type": "code",
   "execution_count": 120,
   "id": "fdf75c27-bbee-4b0f-b2fe-b1672a709616",
   "metadata": {},
   "outputs": [],
   "source": [
    "#ajoutez une nouvelle colonne Statut :\n",
    "#1. \"VIP\" pour les joueurs très actifs (> 4000 minutes de jeu).\n",
    "#2. \"Risque\" pour les joueurs insatisfaits (< 60 de satisfaction).\n",
    "data[\"Statut\"] = \"Normal\"\n",
    "data.loc[temps_par_joueur.loc[temps_par_joueur['Temps_Jeu']>4000,\"ID_Joueur\"],\"Status\"] = \"VIP\"\n",
    "data.loc[joueurs_insatisfaits.loc[:,\"ID_Joueur\"],\"ID_Joueur\"] = \"Risque\""
   ]
  },
  {
   "cell_type": "markdown",
   "id": "9ed020bd-5708-4a40-b3a7-bc9949c2ff74",
   "metadata": {},
   "source": [
    "Mission 3 : Visualisation des Performances Régionales (Avancé)"
   ]
  },
  {
   "cell_type": "code",
   "execution_count": 122,
   "id": "51cb23a1-f8e1-458c-9bd3-e86ea7a70799",
   "metadata": {},
   "outputs": [
    {
     "name": "stdout",
     "output_type": "stream",
     "text": [
      "0.2116\n"
     ]
    }
   ],
   "source": [
    "#remplissage des valeures nulles\n",
    "print(data[\"Région\"].isna().mean())\n",
    "#on remarque que 21% des lignes ne possedent pas de region donc on les remplace avec autre valeurs\n",
    "data[\"Région\"] = data[\"Région\"].fillna('AUTRE')"
   ]
  },
  {
   "cell_type": "code",
   "execution_count": 123,
   "id": "37961f42-74a1-4a4f-82cb-244defe7b4ca",
   "metadata": {},
   "outputs": [
    {
     "data": {
      "text/html": [
       "<div>\n",
       "<style scoped>\n",
       "    .dataframe tbody tr th:only-of-type {\n",
       "        vertical-align: middle;\n",
       "    }\n",
       "\n",
       "    .dataframe tbody tr th {\n",
       "        vertical-align: top;\n",
       "    }\n",
       "\n",
       "    .dataframe thead th {\n",
       "        text-align: right;\n",
       "    }\n",
       "</style>\n",
       "<table border=\"1\" class=\"dataframe\">\n",
       "  <thead>\n",
       "    <tr style=\"text-align: right;\">\n",
       "      <th></th>\n",
       "      <th>Région</th>\n",
       "      <th>Achats_Objets</th>\n",
       "    </tr>\n",
       "  </thead>\n",
       "  <tbody>\n",
       "    <tr>\n",
       "      <th>0</th>\n",
       "      <td>AF</td>\n",
       "      <td>137700</td>\n",
       "    </tr>\n",
       "    <tr>\n",
       "      <th>1</th>\n",
       "      <td>AS</td>\n",
       "      <td>127300</td>\n",
       "    </tr>\n",
       "    <tr>\n",
       "      <th>2</th>\n",
       "      <td>AUTRE</td>\n",
       "      <td>168100</td>\n",
       "    </tr>\n",
       "    <tr>\n",
       "      <th>3</th>\n",
       "      <td>EU</td>\n",
       "      <td>132300</td>\n",
       "    </tr>\n",
       "    <tr>\n",
       "      <th>4</th>\n",
       "      <td>OC</td>\n",
       "      <td>122700</td>\n",
       "    </tr>\n",
       "    <tr>\n",
       "      <th>5</th>\n",
       "      <td>SA</td>\n",
       "      <td>126000</td>\n",
       "    </tr>\n",
       "  </tbody>\n",
       "</table>\n",
       "</div>"
      ],
      "text/plain": [
       "  Région  Achats_Objets\n",
       "0     AF         137700\n",
       "1     AS         127300\n",
       "2  AUTRE         168100\n",
       "3     EU         132300\n",
       "4     OC         122700\n",
       "5     SA         126000"
      ]
     },
     "execution_count": 123,
     "metadata": {},
     "output_type": "execute_result"
    }
   ],
   "source": [
    "#1. Créez un graphique des ventes totales d’objets par région.\n",
    "ventes_par_region = data.groupby(by='Région')[\"Achats_Objets\"].sum()\n",
    "ventes_par_region = ventes_par_region.reset_index()\n",
    "ventes_par_region"
   ]
  },
  {
   "cell_type": "code",
   "execution_count": 124,
   "id": "f05bb45c-ad38-414b-af30-205049c55564",
   "metadata": {},
   "outputs": [
    {
     "data": {
      "image/png": "[encoded data removed]",
      "text/plain": [
       "<Figure size 640x480 with 1 Axes>"
      ]
     },
     "metadata": {},
     "output_type": "display_data"
    }
   ],
   "source": [
    "sns.barplot(x='Région', y='Achats_Objets', data=ventes_par_region,hue='Achats_Objets',palette='BuGn')\n",
    "plt.legend([],[], frameon=False)\n",
    "plt.show()"
   ]
  },
  {
   "cell_type": "code",
   "execution_count": 125,
   "id": "adb5a650-0e49-4934-b1e7-39d810aa3592",
   "metadata": {},
   "outputs": [],
   "source": [
    "#Représentez les performances des serveurs par région (stable, dégradé, hors ligne).\n",
    "serveur_par_region = data.groupby(by=['Région', 'Serveur']).size().reset_index(name='Count')"
   ]
  },
  {
   "cell_type": "code",
   "execution_count": 126,
   "id": "1383b815-6e86-4de3-aef7-96dfafc2850e",
   "metadata": {},
   "outputs": [
    {
     "data": {
      "text/plain": [
       "<Axes: xlabel='Région', ylabel='Count'>"
      ]
     },
     "execution_count": 126,
     "metadata": {},
     "output_type": "execute_result"
    },
    {
     "data": {
      "image/png": "[encoded data removed]",
      "text/plain": [
       "<Figure size 640x480 with 1 Axes>"
      ]
     },
     "metadata": {},
     "output_type": "display_data"
    }
   ],
   "source": [
    "sns.barplot(x='Région', y='Count', hue='Serveur', data=serveur_par_region, palette='BuGn')"
   ]
  },
  {
   "cell_type": "code",
   "execution_count": 127,
   "id": "5b1bc09b-711c-40a8-bef8-5f402e5e658e",
   "metadata": {},
   "outputs": [
    {
     "name": "stdout",
     "output_type": "stream",
     "text": [
      "Requirement already satisfied: folium in /opt/anaconda3/lib/python3.12/site-packages (0.19.0)\n",
      "Requirement already satisfied: branca>=0.6.0 in /opt/anaconda3/lib/python3.12/site-packages (from folium) (0.8.0)\n",
      "Requirement already satisfied: jinja2>=2.9 in /opt/anaconda3/lib/python3.12/site-packages (from folium) (3.1.4)\n",
      "Requirement already satisfied: numpy in /opt/anaconda3/lib/python3.12/site-packages (from folium) (1.26.4)\n",
      "Requirement already satisfied: requests in /opt/anaconda3/lib/python3.12/site-packages (from folium) (2.32.3)\n",
      "Requirement already satisfied: xyzservices in /opt/anaconda3/lib/python3.12/site-packages (from folium) (2022.9.0)\n",
      "Requirement already satisfied: MarkupSafe>=2.0 in /opt/anaconda3/lib/python3.12/site-packages (from jinja2>=2.9->folium) (2.1.3)\n",
      "Requirement already satisfied: charset-normalizer<4,>=2 in /opt/anaconda3/lib/python3.12/site-packages (from requests->folium) (3.3.2)\n",
      "Requirement already satisfied: idna<4,>=2.5 in /opt/anaconda3/lib/python3.12/site-packages (from requests->folium) (3.7)\n",
      "Requirement already satisfied: urllib3<3,>=1.21.1 in /opt/anaconda3/lib/python3.12/site-packages (from requests->folium) (2.2.3)\n",
      "Requirement already satisfied: certifi>=2017.4.17 in /opt/anaconda3/lib/python3.12/site-packages (from requests->folium) (2024.8.30)\n",
      "Note: you may need to restart the kernel to use updated packages.\n"
     ]
    }
   ],
   "source": [
    "pip install folium"
   ]
  },
  {
   "cell_type": "code",
   "execution_count": null,
   "id": "f87726f6-2b05-4d5b-ba56-1ce63868c72b",
   "metadata": {},
   "outputs": [],
   "source": []
  },
  {
   "cell_type": "code",
   "execution_count": null,
   "id": "6a02a4aa-00db-4955-b94c-a1a5d0baa56f",
   "metadata": {},
   "outputs": [],
   "source": []
  },
  {
   "cell_type": "code",
   "execution_count": 172,
   "id": "3f2034f0-06ba-42f7-bc1d-ee237f2a270a",
   "metadata": {},
   "outputs": [
    {
     "data": {
      "text/html": [
       "<div style=\"width:100%;\"><div style=\"position:relative;width:100%;height:0;padding-bottom:60%;\"><span style=\"color:#565656\">Make this Notebook Trusted to load map: File -> Trust Notebook</span><iframe srcdoc=\"&lt;!DOCTYPE html&gt;\n",
       "&lt;html&gt;\n",
       "&lt;head&gt;\n",
       "    \n",
       "    &lt;meta http-equiv=&quot;content-type&quot; content=&quot;text/html; charset=UTF-8&quot; /&gt;\n",
       "    \n",
       "        &lt;script&gt;\n",
       "            L_NO_TOUCH = false;\n",
       "            L_DISABLE_3D = false;\n",
       "        &lt;/script&gt;\n",
       "    \n",
       "    &lt;style&gt;html, body {width: 100%;height: 100%;margin: 0;padding: 0;}&lt;/style&gt;\n",
       "    &lt;style&gt;#map {position:absolute;top:0;bottom:0;right:0;left:0;}&lt;/style&gt;\n",
       "    &lt;script src=&quot;https://cdn.jsdelivr.net/npm/leaflet@1.9.3/dist/leaflet.js&quot;&gt;&lt;/script&gt;\n",
       "    &lt;script src=&quot;https://code.jquery.com/jquery-3.7.1.min.js&quot;&gt;&lt;/script&gt;\n",
       "    &lt;script src=&quot;https://cdn.jsdelivr.net/npm/bootstrap@5.2.2/dist/js/bootstrap.bundle.min.js&quot;&gt;&lt;/script&gt;\n",
       "    &lt;script src=&quot;https://cdnjs.cloudflare.com/ajax/libs/Leaflet.awesome-markers/2.0.2/leaflet.awesome-markers.js&quot;&gt;&lt;/script&gt;\n",
       "    &lt;link rel=&quot;stylesheet&quot; href=&quot;https://cdn.jsdelivr.net/npm/leaflet@1.9.3/dist/leaflet.css&quot;/&gt;\n",
       "    &lt;link rel=&quot;stylesheet&quot; href=&quot;https://cdn.jsdelivr.net/npm/bootstrap@5.2.2/dist/css/bootstrap.min.css&quot;/&gt;\n",
       "    &lt;link rel=&quot;stylesheet&quot; href=&quot;https://netdna.bootstrapcdn.com/bootstrap/3.0.0/css/bootstrap-glyphicons.css&quot;/&gt;\n",
       "    &lt;link rel=&quot;stylesheet&quot; href=&quot;https://cdn.jsdelivr.net/npm/@fortawesome/fontawesome-free@6.2.0/css/all.min.css&quot;/&gt;\n",
       "    &lt;link rel=&quot;stylesheet&quot; href=&quot;https://cdnjs.cloudflare.com/ajax/libs/Leaflet.awesome-markers/2.0.2/leaflet.awesome-markers.css&quot;/&gt;\n",
       "    &lt;link rel=&quot;stylesheet&quot; href=&quot;https://cdn.jsdelivr.net/gh/python-visualization/folium/folium/templates/leaflet.awesome.rotate.min.css&quot;/&gt;\n",
       "    \n",
       "            &lt;meta name=&quot;viewport&quot; content=&quot;width=device-width,\n",
       "                initial-scale=1.0, maximum-scale=1.0, user-scalable=no&quot; /&gt;\n",
       "            &lt;style&gt;\n",
       "                #map_556559d69573142b07bd97b6911cb19a {\n",
       "                    position: relative;\n",
       "                    width: 100.0%;\n",
       "                    height: 100.0%;\n",
       "                    left: 0.0%;\n",
       "                    top: 0.0%;\n",
       "                }\n",
       "                .leaflet-container { font-size: 1rem; }\n",
       "            &lt;/style&gt;\n",
       "        \n",
       "&lt;/head&gt;\n",
       "&lt;body&gt;\n",
       "    \n",
       "    \n",
       "            &lt;div class=&quot;folium-map&quot; id=&quot;map_556559d69573142b07bd97b6911cb19a&quot; &gt;&lt;/div&gt;\n",
       "        \n",
       "&lt;/body&gt;\n",
       "&lt;script&gt;\n",
       "    \n",
       "    \n",
       "            var map_556559d69573142b07bd97b6911cb19a = L.map(\n",
       "                &quot;map_556559d69573142b07bd97b6911cb19a&quot;,\n",
       "                {\n",
       "                    center: [10.0, 40.0],\n",
       "                    crs: L.CRS.EPSG3857,\n",
       "                    ...{\n",
       "  &quot;maxBounds&quot;: null,\n",
       "  &quot;zoom&quot;: 2,\n",
       "  &quot;zoomControl&quot;: true,\n",
       "  &quot;preferCanvas&quot;: false,\n",
       "}\n",
       "\n",
       "                }\n",
       "            );\n",
       "\n",
       "            \n",
       "\n",
       "        \n",
       "    \n",
       "            var tile_layer_4878351fdb520f270daa30832285660c = L.tileLayer(\n",
       "                &quot;https://tile.openstreetmap.org/{z}/{x}/{y}.png&quot;,\n",
       "                {\n",
       "  &quot;minZoom&quot;: 0,\n",
       "  &quot;maxZoom&quot;: 19,\n",
       "  &quot;maxNativeZoom&quot;: 19,\n",
       "  &quot;noWrap&quot;: false,\n",
       "  &quot;attribution&quot;: &quot;\\u0026copy; \\u003ca href=\\&quot;https://www.openstreetmap.org/copyright\\&quot;\\u003eOpenStreetMap\\u003c/a\\u003e contributors&quot;,\n",
       "  &quot;subdomains&quot;: &quot;abc&quot;,\n",
       "  &quot;detectRetina&quot;: false,\n",
       "  &quot;tms&quot;: false,\n",
       "  &quot;opacity&quot;: 1,\n",
       "}\n",
       "\n",
       "            );\n",
       "        \n",
       "    \n",
       "            tile_layer_4878351fdb520f270daa30832285660c.addTo(map_556559d69573142b07bd97b6911cb19a);\n",
       "        \n",
       "    \n",
       "            var circle_marker_6b397271bf6e9b11e209948f2e48c9ea = L.circleMarker(\n",
       "                [10.0, 20.0],\n",
       "                {&quot;bubblingMouseEvents&quot;: true, &quot;color&quot;: &quot;blue&quot;, &quot;dashArray&quot;: null, &quot;dashOffset&quot;: null, &quot;fill&quot;: true, &quot;fillColor&quot;: &quot;blue&quot;, &quot;fillOpacity&quot;: 0.6, &quot;fillRule&quot;: &quot;evenodd&quot;, &quot;lineCap&quot;: &quot;round&quot;, &quot;lineJoin&quot;: &quot;round&quot;, &quot;opacity&quot;: 1.0, &quot;radius&quot;: 13.77, &quot;stroke&quot;: true, &quot;weight&quot;: 3}\n",
       "            ).addTo(map_556559d69573142b07bd97b6911cb19a);\n",
       "        \n",
       "    \n",
       "        var popup_5e5bdd8363a89c3729bd1a5724b11996 = L.popup({\n",
       "  &quot;maxWidth&quot;: &quot;100%&quot;,\n",
       "  &quot;autoClose&quot;: null,\n",
       "  &quot;closeOnClick&quot;: null,\n",
       "});\n",
       "\n",
       "        \n",
       "            \n",
       "                var html_6768f4eb7e0cf34b5d6cf642a36e3ccf = $(`&lt;div id=&quot;html_6768f4eb7e0cf34b5d6cf642a36e3ccf&quot; style=&quot;width: 100.0%; height: 100.0%;&quot;&gt;Région: AF&lt;br&gt;Achats Moyens: 137700&lt;/div&gt;`)[0];\n",
       "                popup_5e5bdd8363a89c3729bd1a5724b11996.setContent(html_6768f4eb7e0cf34b5d6cf642a36e3ccf);\n",
       "            \n",
       "        \n",
       "\n",
       "        circle_marker_6b397271bf6e9b11e209948f2e48c9ea.bindPopup(popup_5e5bdd8363a89c3729bd1a5724b11996)\n",
       "        ;\n",
       "\n",
       "        \n",
       "    \n",
       "    \n",
       "            var circle_marker_27704f871d32a7b44855b7b64dc22f5a = L.circleMarker(\n",
       "                [40.0, 80.0],\n",
       "                {&quot;bubblingMouseEvents&quot;: true, &quot;color&quot;: &quot;blue&quot;, &quot;dashArray&quot;: null, &quot;dashOffset&quot;: null, &quot;fill&quot;: true, &quot;fillColor&quot;: &quot;blue&quot;, &quot;fillOpacity&quot;: 0.6, &quot;fillRule&quot;: &quot;evenodd&quot;, &quot;lineCap&quot;: &quot;round&quot;, &quot;lineJoin&quot;: &quot;round&quot;, &quot;opacity&quot;: 1.0, &quot;radius&quot;: 12.73, &quot;stroke&quot;: true, &quot;weight&quot;: 3}\n",
       "            ).addTo(map_556559d69573142b07bd97b6911cb19a);\n",
       "        \n",
       "    \n",
       "        var popup_ee5b5bf98aa1dfd6321a4d2b1bb3cadc = L.popup({\n",
       "  &quot;maxWidth&quot;: &quot;100%&quot;,\n",
       "  &quot;autoClose&quot;: null,\n",
       "  &quot;closeOnClick&quot;: null,\n",
       "});\n",
       "\n",
       "        \n",
       "            \n",
       "                var html_0b8536681cc620147cf1eab3d160fddb = $(`&lt;div id=&quot;html_0b8536681cc620147cf1eab3d160fddb&quot; style=&quot;width: 100.0%; height: 100.0%;&quot;&gt;Région: AS&lt;br&gt;Achats Moyens: 127300&lt;/div&gt;`)[0];\n",
       "                popup_ee5b5bf98aa1dfd6321a4d2b1bb3cadc.setContent(html_0b8536681cc620147cf1eab3d160fddb);\n",
       "            \n",
       "        \n",
       "\n",
       "        circle_marker_27704f871d32a7b44855b7b64dc22f5a.bindPopup(popup_ee5b5bf98aa1dfd6321a4d2b1bb3cadc)\n",
       "        ;\n",
       "\n",
       "        \n",
       "    \n",
       "    \n",
       "            var circle_marker_e910fe2022aecd339f6bb0a769e39a23 = L.circleMarker(\n",
       "                [50.0, 10.0],\n",
       "                {&quot;bubblingMouseEvents&quot;: true, &quot;color&quot;: &quot;blue&quot;, &quot;dashArray&quot;: null, &quot;dashOffset&quot;: null, &quot;fill&quot;: true, &quot;fillColor&quot;: &quot;blue&quot;, &quot;fillOpacity&quot;: 0.6, &quot;fillRule&quot;: &quot;evenodd&quot;, &quot;lineCap&quot;: &quot;round&quot;, &quot;lineJoin&quot;: &quot;round&quot;, &quot;opacity&quot;: 1.0, &quot;radius&quot;: 13.23, &quot;stroke&quot;: true, &quot;weight&quot;: 3}\n",
       "            ).addTo(map_556559d69573142b07bd97b6911cb19a);\n",
       "        \n",
       "    \n",
       "        var popup_f8ce2838d5fdb85689ee7091a0cddeb2 = L.popup({\n",
       "  &quot;maxWidth&quot;: &quot;100%&quot;,\n",
       "  &quot;autoClose&quot;: null,\n",
       "  &quot;closeOnClick&quot;: null,\n",
       "});\n",
       "\n",
       "        \n",
       "            \n",
       "                var html_4bf2a1859a83b6fa7c3320189e4b1f5f = $(`&lt;div id=&quot;html_4bf2a1859a83b6fa7c3320189e4b1f5f&quot; style=&quot;width: 100.0%; height: 100.0%;&quot;&gt;Région: EU&lt;br&gt;Achats Moyens: 132300&lt;/div&gt;`)[0];\n",
       "                popup_f8ce2838d5fdb85689ee7091a0cddeb2.setContent(html_4bf2a1859a83b6fa7c3320189e4b1f5f);\n",
       "            \n",
       "        \n",
       "\n",
       "        circle_marker_e910fe2022aecd339f6bb0a769e39a23.bindPopup(popup_f8ce2838d5fdb85689ee7091a0cddeb2)\n",
       "        ;\n",
       "\n",
       "        \n",
       "    \n",
       "    \n",
       "            var circle_marker_b3f168a202b377f9e652c20e982ce1ee = L.circleMarker(\n",
       "                [-30.0, 150.0],\n",
       "                {&quot;bubblingMouseEvents&quot;: true, &quot;color&quot;: &quot;blue&quot;, &quot;dashArray&quot;: null, &quot;dashOffset&quot;: null, &quot;fill&quot;: true, &quot;fillColor&quot;: &quot;blue&quot;, &quot;fillOpacity&quot;: 0.6, &quot;fillRule&quot;: &quot;evenodd&quot;, &quot;lineCap&quot;: &quot;round&quot;, &quot;lineJoin&quot;: &quot;round&quot;, &quot;opacity&quot;: 1.0, &quot;radius&quot;: 12.27, &quot;stroke&quot;: true, &quot;weight&quot;: 3}\n",
       "            ).addTo(map_556559d69573142b07bd97b6911cb19a);\n",
       "        \n",
       "    \n",
       "        var popup_30668c63b8c1fdb96e925f543f0dcdcd = L.popup({\n",
       "  &quot;maxWidth&quot;: &quot;100%&quot;,\n",
       "  &quot;autoClose&quot;: null,\n",
       "  &quot;closeOnClick&quot;: null,\n",
       "});\n",
       "\n",
       "        \n",
       "            \n",
       "                var html_3850b4df7596f9701ca5084a72fa8048 = $(`&lt;div id=&quot;html_3850b4df7596f9701ca5084a72fa8048&quot; style=&quot;width: 100.0%; height: 100.0%;&quot;&gt;Région: OC&lt;br&gt;Achats Moyens: 122700&lt;/div&gt;`)[0];\n",
       "                popup_30668c63b8c1fdb96e925f543f0dcdcd.setContent(html_3850b4df7596f9701ca5084a72fa8048);\n",
       "            \n",
       "        \n",
       "\n",
       "        circle_marker_b3f168a202b377f9e652c20e982ce1ee.bindPopup(popup_30668c63b8c1fdb96e925f543f0dcdcd)\n",
       "        ;\n",
       "\n",
       "        \n",
       "    \n",
       "    \n",
       "            var circle_marker_f7fab2faebeef9b1c80c7c9e8853b81a = L.circleMarker(\n",
       "                [-20.0, -60.0],\n",
       "                {&quot;bubblingMouseEvents&quot;: true, &quot;color&quot;: &quot;blue&quot;, &quot;dashArray&quot;: null, &quot;dashOffset&quot;: null, &quot;fill&quot;: true, &quot;fillColor&quot;: &quot;blue&quot;, &quot;fillOpacity&quot;: 0.6, &quot;fillRule&quot;: &quot;evenodd&quot;, &quot;lineCap&quot;: &quot;round&quot;, &quot;lineJoin&quot;: &quot;round&quot;, &quot;opacity&quot;: 1.0, &quot;radius&quot;: 12.6, &quot;stroke&quot;: true, &quot;weight&quot;: 3}\n",
       "            ).addTo(map_556559d69573142b07bd97b6911cb19a);\n",
       "        \n",
       "    \n",
       "        var popup_e3519083fa2d8f15c3a1e05d6251fbe2 = L.popup({\n",
       "  &quot;maxWidth&quot;: &quot;100%&quot;,\n",
       "  &quot;autoClose&quot;: null,\n",
       "  &quot;closeOnClick&quot;: null,\n",
       "});\n",
       "\n",
       "        \n",
       "            \n",
       "                var html_c1f106a341995d07c164fcbfe1ade0b7 = $(`&lt;div id=&quot;html_c1f106a341995d07c164fcbfe1ade0b7&quot; style=&quot;width: 100.0%; height: 100.0%;&quot;&gt;Région: SA&lt;br&gt;Achats Moyens: 126000&lt;/div&gt;`)[0];\n",
       "                popup_e3519083fa2d8f15c3a1e05d6251fbe2.setContent(html_c1f106a341995d07c164fcbfe1ade0b7);\n",
       "            \n",
       "        \n",
       "\n",
       "        circle_marker_f7fab2faebeef9b1c80c7c9e8853b81a.bindPopup(popup_e3519083fa2d8f15c3a1e05d6251fbe2)\n",
       "        ;\n",
       "\n",
       "        \n",
       "    \n",
       "&lt;/script&gt;\n",
       "&lt;/html&gt;\" style=\"position:absolute;width:100%;height:100%;left:0;top:0;border:none !important;\" allowfullscreen webkitallowfullscreen mozallowfullscreen></iframe></div></div>"
      ],
      "text/plain": [
       "<folium.folium.Map at 0x31d5493a0>"
      ]
     },
     "execution_count": 172,
     "metadata": {},
     "output_type": "execute_result"
    }
   ],
   "source": [
    "import folium\n",
    "import pandas as pd\n",
    "\n",
    "# Example DataFrame (replace this with your data)\n",
    "carte_data = pd.DataFrame({\n",
    "    'Région': ['AF', 'AS', 'EU', 'OC', 'SA'],\n",
    "    'Achats_Objets': [137700, 127300, 132300, 122700, 126000],\n",
    "    'Latitude': [10, 40, 50, -30, -20],\n",
    "    'Longitude': [20, 80, 10, 150, -60]\n",
    "})\n",
    "\n",
    "# Create a Folium map centered at average coordinates\n",
    "carte = folium.Map(\n",
    "    location=[carte_data['Latitude'].mean(), carte_data['Longitude'].mean()],\n",
    "    zoom_start=2, tiles='OpenStreetMap'\n",
    ")\n",
    "\n",
    "# Add points to the map\n",
    "for _, row in carte_data.iterrows():\n",
    "    folium.CircleMarker(\n",
    "        location=[row['Latitude'], row['Longitude']],\n",
    "        radius=row['Achats_Objets'] / 10000,  # Adjust size\n",
    "        color='blue',\n",
    "        fill=True,\n",
    "        fill_opacity=0.6,\n",
    "        popup=f\"Région: {row['Région']}<br>Achats Moyens: {row['Achats_Objets']}\"\n",
    "    ).add_to(carte)\n",
    "\n",
    "# Show the map\n",
    "carte"
   ]
  },
  {
   "cell_type": "markdown",
   "id": "d3a9f0c4-0c71-402b-8f72-9735380edbf9",
   "metadata": {},
   "source": [
    "Mission 4 : Prédiction des Dépenses"
   ]
  },
  {
   "cell_type": "code",
   "execution_count": 130,
   "id": "78e6feaa-ce27-4e98-be98-e48edc6fb464",
   "metadata": {},
   "outputs": [
    {
     "name": "stdout",
     "output_type": "stream",
     "text": [
      "Date                 0\n",
      "ID_Joueur            0\n",
      "Temps_Jeu          750\n",
      "Victoires            0\n",
      "Achats_Objets        0\n",
      "Satisfaction       750\n",
      "Région               0\n",
      "Serveur              0\n",
      "Latitude             0\n",
      "Longitude            0\n",
      "Statut               0\n",
      "Status           15000\n",
      "dtype: int64\n"
     ]
    }
   ],
   "source": [
    "#on verifie les valeures nulles\n",
    "print(data.isna().sum())\n",
    "#on remplis les valeures nulles \n",
    "data[[\"Temps_Jeu\", \"Satisfaction\"]] = data[[\"Temps_Jeu\", \"Satisfaction\"]].fillna(data[[\"Temps_Jeu\", \"Satisfaction\"]].median())"
   ]
  },
  {
   "cell_type": "code",
   "execution_count": 131,
   "id": "37ab8177-76a3-4eec-a205-2812f46d1cee",
   "metadata": {},
   "outputs": [
    {
     "name": "stdout",
     "output_type": "stream",
     "text": [
      "MAE 66.68643074843757\n",
      "MSE 12524.726945506563\n"
     ]
    }
   ],
   "source": [
    "#Linear Regression\n",
    "from sklearn.linear_model import LinearRegression\n",
    "from sklearn.model_selection import train_test_split\n",
    "from sklearn.metrics import mean_absolute_error, mean_squared_error, r2_score\n",
    "\n",
    "model = LinearRegression()\n",
    "\n",
    "# split data\n",
    "X_train, X_test, y_train, y_test = train_test_split(data[[\"Temps_Jeu\", \"Victoires\"]], data[\"Achats_Objets\"], test_size=0.2, random_state=42)\n",
    "\n",
    "# fit model \n",
    "model.fit(X_train, y_train)\n",
    "\n",
    "# make predictionsx\n",
    "y_pred = model.predict(X_test)\n",
    "\n",
    "# evaluate error\n",
    "print(\"MAE\",mean_absolute_error(y_test,y_pred))\n",
    "print(\"MSE\",mean_squared_error(y_test,y_pred))"
   ]
  },
  {
   "cell_type": "code",
   "execution_count": 132,
   "id": "bcf224a4-7579-4a59-bad5-a9d1c2cbbe9f",
   "metadata": {},
   "outputs": [
    {
     "name": "stdout",
     "output_type": "stream",
     "text": [
      "MAE: 75.91167325608512\n",
      "MSE: 15966.432093303718\n"
     ]
    }
   ],
   "source": [
    "#Arbre de Décision\n",
    "from sklearn.ensemble import RandomForestRegressor\n",
    "from sklearn.model_selection import train_test_split\n",
    "from sklearn.metrics import mean_absolute_error, mean_squared_error, r2_score\n",
    "\n",
    "model = RandomForestRegressor(n_estimators=100, random_state=42)\n",
    "\n",
    "# split data\n",
    "X_train, X_test, y_train, y_test = train_test_split(data[[\"Temps_Jeu\", \"Victoires\"]], data[\"Achats_Objets\"], test_size=0.2, random_state=42)\n",
    "\n",
    "# fit model \n",
    "model.fit(X_train, y_train)\n",
    "\n",
    "# make predictions\n",
    "y_pred = model.predict(X_test)\n",
    "\n",
    "# evaluate error\n",
    "print(\"MAE:\", mean_absolute_error(y_test, y_pred))  # Mean Absolute Error\n",
    "print(\"MSE:\", mean_squared_error(y_test, y_pred))  # Mean Squared Error"
   ]
  },
  {
   "cell_type": "code",
   "execution_count": 133,
   "id": "79d2ccd8-324a-4f1a-9978-c7fbb93f4f57",
   "metadata": {},
   "outputs": [
    {
     "name": "stdout",
     "output_type": "stream",
     "text": [
      "MAE: 54.422259057389\n",
      "MSE: 15462.453960634912\n"
     ]
    }
   ],
   "source": [
    "#SVM\n",
    "from sklearn.svm import SVR\n",
    "from sklearn.model_selection import train_test_split\n",
    "from sklearn.metrics import mean_absolute_error, mean_squared_error, r2_score\n",
    "\n",
    "model = SVR(kernel='rbf', C=1.0, epsilon=0.2)\n",
    "\n",
    "# split data\n",
    "X_train, X_test, y_train, y_test = train_test_split(data[[\"Temps_Jeu\", \"Victoires\"]], data[\"Achats_Objets\"], test_size=0.2, random_state=42)\n",
    "\n",
    "# fit model \n",
    "model.fit(X_train, y_train)\n",
    "\n",
    "# make predictions\n",
    "y_pred = model.predict(X_test)\n",
    "\n",
    "# evaluate error\n",
    "print(\"MAE:\", mean_absolute_error(y_test, y_pred))  # Mean Absolute Error\n",
    "print(\"MSE:\", mean_squared_error(y_test, y_pred))  # Mean Squared Error"
   ]
  },
  {
   "cell_type": "code",
   "execution_count": 134,
   "id": "e06d6515-aa80-46fc-82de-de2732694fb2",
   "metadata": {},
   "outputs": [],
   "source": [
    "#Le modèle le plus performant est le SVM"
   ]
  },
  {
   "cell_type": "markdown",
   "id": "03fff778-ab83-4811-932c-483ca18f22fc",
   "metadata": {},
   "source": [
    "Mission 5 : Détection d’Anomalies"
   ]
  },
  {
   "cell_type": "code",
   "execution_count": 180,
   "id": "319eedce-5050-4384-a493-59b39d7e0e56",
   "metadata": {},
   "outputs": [
    {
     "name": "stdout",
     "output_type": "stream",
     "text": [
      "Valeurs aberrantes pour Temps_Jeu (en dehors de l'intervalle interquartile) :\n",
      "       ID_Joueur   Temps_Jeu\n",
      "77          1653  196.815089\n",
      "118         1182  200.007157\n",
      "256         1772  201.323829\n",
      "300         1129   30.000000\n",
      "307         1129   40.445158\n",
      "...          ...         ...\n",
      "14130       1156   39.291731\n",
      "14181       1705   43.619848\n",
      "14214       1040   36.744346\n",
      "14581       1787   30.000000\n",
      "14780       1107  228.340502\n",
      "\n",
      "[164 rows x 2 columns]\n",
      "\n",
      "Valeurs aberrantes pour Victoires (en dehors de l'intervalle interquartile) :\n",
      "Empty DataFrame\n",
      "Columns: [ID_Joueur, Victoires]\n",
      "Index: []\n"
     ]
    }
   ],
   "source": [
    "import pandas as pd\n",
    "\n",
    "# 1. Calcul des quartiles Q1 et Q3\n",
    "Q1_temp = data[\"Temps_Jeu\"].quantile(0.25)\n",
    "Q3_temp = data[\"Temps_Jeu\"].quantile(0.75)\n",
    "IQR_temp = Q3_temp - Q1_temp\n",
    "\n",
    "Q1_vic = data[\"Victoires\"].quantile(0.25)\n",
    "Q3_vic = data[\"Victoires\"].quantile(0.75)\n",
    "IQR_vic = Q3_vic - Q1_vic\n",
    "\n",
    "# 2. Définition des limites pour les valeurs aberrantes (outliers)\n",
    "outlier_lower_temp = Q1_temp - 1.5 * IQR_temp\n",
    "outlier_upper_temp = Q3_temp + 1.5 * IQR_temp\n",
    "\n",
    "outlier_lower_vic = Q1_vic - 1.5 * IQR_vic\n",
    "outlier_upper_vic = Q3_vic + 1.5 * IQR_vic\n",
    "\n",
    "# 3. Identifier les outliers en fonction des quantiles\n",
    "outliers_temp = data[(data[\"Temps_Jeu\"] < outlier_lower_temp) | (data[\"Temps_Jeu\"] > outlier_upper_temp)]\n",
    "outliers_vic = data[(data[\"Victoires\"] < outlier_lower_vic) | (data[\"Victoires\"] > outlier_upper_vic)]\n",
    "\n",
    "# 4. Affichage des résultats\n",
    "print(\"Valeurs aberrantes pour Temps_Jeu (en dehors de l'intervalle interquartile) :\")\n",
    "print(outliers_temp[[\"ID_Joueur\", \"Temps_Jeu\"]])\n",
    "\n",
    "print(\"\\nValeurs aberrantes pour Victoires (en dehors de l'intervalle interquartile) :\")\n",
    "print(outliers_vic[[\"ID_Joueur\", \"Victoires\"]])\n",
    "\n",
    "# Optionnel: Vous pouvez combiner les deux DataFrames d'outliers pour une vue d'ensemble\n",
    "all_outliers = pd.concat([outliers_temp[[\"ID_Joueur\", \"Temps_Jeu\"]],\n",
    "                          outliers_vic[[\"ID_Joueur\", \"Victoires\"]]], axis=1)"
   ]
  },
  {
   "cell_type": "markdown",
   "id": "2f236c1f-6f31-4af8-afce-c4935610010e",
   "metadata": {},
   "source": [
    "Mission 6 : Optimisation de l’Économie Virtuelle"
   ]
  },
  {
   "cell_type": "code",
   "execution_count": 138,
   "id": "deb9cced-edf0-47e5-8330-953696bb2033",
   "metadata": {},
   "outputs": [
    {
     "name": "stdout",
     "output_type": "stream",
     "text": [
      "   ID_Joueur  Total_Achats  Nb_Achats Dernier_Achat Categorie_Joueur\n",
      "0       1001          1300         30    2023-01-30           Fidèle\n",
      "1       1002          1700         30    2023-01-30           Fidèle\n",
      "2       1003          1500         30    2023-01-27           Fidèle\n",
      "3       1005          1050         30    2023-01-30           Fidèle\n",
      "4       1006          1800         30    2023-01-29           Fidèle\n"
     ]
    }
   ],
   "source": [
    "#1. Identifiez les joueurs qui dépensent régulièrement et ceux qui ne dépensent pas.\n",
    "frequence_achats = data.groupby('ID_Joueur').agg(\n",
    "    Total_Achats=('Achats_Objets', 'sum'),   # Montant total dépensé\n",
    "    Nb_Achats=('Achats_Objets', 'count'),   # Nombre total d'achats\n",
    "    Dernier_Achat=('Date', 'max')           # Dernière date d'achat\n",
    ").reset_index()\n",
    "\n",
    "frequence_achats['Categorie_Joueur'] = pd.cut(\n",
    "    frequence_achats['Nb_Achats'], \n",
    "    bins=[0, 1, 5, 20, float(\"inf\")], \n",
    "    labels=['Non Dépensant', 'Occasionnel', 'Régulier', 'Fidèle']\n",
    ")\n",
    "print(frequence_achats.head())"
   ]
  },
  {
   "cell_type": "code",
   "execution_count": 139,
   "id": "447f8c28-e7e7-486c-8cc4-da400e781d09",
   "metadata": {},
   "outputs": [
    {
     "name": "stdout",
     "output_type": "stream",
     "text": [
      "   ID_Joueur  Recence  Frequence  Montant_Total\n",
      "0       1001        1         30           1300\n",
      "1       1002        1         30           1700\n",
      "2       1003        4         30           1500\n",
      "3       1005        1         30           1050\n",
      "4       1006        2         30           1800\n"
     ]
    }
   ],
   "source": [
    "#2. Préparez une segmentation en fonction des habitudes d’achat.\n",
    "date_ref = pd.to_datetime(data['Date']).max() + pd.Timedelta(days=1)\n",
    "def calcul_recence(serie):\n",
    "    return (date_ref - pd.to_datetime(serie.max())).days\n",
    "\n",
    "rfm = data.groupby('ID_Joueur').agg(\n",
    "    Recence=('Date', calcul_recence),         # Dernier achat\n",
    "    Frequence=('ID_Joueur', 'count'),         # Nombre d'achats\n",
    "    Montant_Total=('Achats_Objets', 'sum')    # Total dépensé\n",
    ").reset_index()\n",
    "\n",
    "print(rfm.head())"
   ]
  },
  {
   "cell_type": "markdown",
   "id": "eedf9256-152f-4310-84d2-588815044976",
   "metadata": {},
   "source": [
    "| **Segment**      | **Description**            | **Action Recommandée**              |\n",
    "|-------------------|------------------------------|--------------------------------------|\n",
    "| **Premium**        | Clients récents et actifs   | Offres exclusives et programmes VIP |\n",
    "| **Fidèle**         | Bons clients, mais moins récents | Remises fidélité et bonus de retour |\n",
    "| **Potentiel**      | Dépenses modérées           | Promotions ciblées et campagnes spéciales |\n",
    "| **À Risque**       | Inactifs ou faibles dépenses | Offres de réengagement et cadeaux   |\n"
   ]
  },
  {
   "cell_type": "code",
   "execution_count": null,
   "id": "4c093258-2531-4d79-96b8-9c9ae2f50a42",
   "metadata": {},
   "outputs": [],
   "source": []
  },
  {
   "cell_type": "code",
   "execution_count": null,
   "id": "17254362-bb6c-479d-b207-0cd1ff4c537e",
   "metadata": {},
   "outputs": [],
   "source": []
  }
 ],
 "metadata": {
  "kernelspec": {
   "display_name": "Python 3 (ipykernel)",
   "language": "python",
   "name": "python3"
  },
  "language_info": {
   "codemirror_mode": {
    "name": "ipython",
    "version": 3
   },
   "file_extension": ".py",
   "mimetype": "text/x-python",
   "name": "python",
   "nbconvert_exporter": "python",
   "pygments_lexer": "ipython3",
   "version": "3.12.7"
  }
 },
 "nbformat": 4,
 "nbformat_minor": 5
}
